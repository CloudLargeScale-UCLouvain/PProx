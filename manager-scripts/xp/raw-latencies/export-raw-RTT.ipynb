{
 "cells": [
  {
   "cell_type": "markdown",
   "metadata": {},
   "source": [
    "# Extract raw RTTs from MongoDB"
   ]
  },
  {
   "cell_type": "markdown",
   "metadata": {},
   "source": [
    "## Parameters"
   ]
  },
  {
   "cell_type": "code",
   "execution_count": 24,
   "metadata": {},
   "outputs": [],
   "source": [
    "experiment_database = \"micro1_ext\"\n",
    "output_folder = \"micro1_ext2\"\n",
    "reg_to_catch = \"xp1_\"\n",
    "raw_data_folder = \"raw\"\n",
    "concat_data_folder = \"concat\"\n",
    "input_RPS = ['375','500']"
   ]
  },
  {
   "cell_type": "code",
   "execution_count": 25,
   "metadata": {},
   "outputs": [],
   "source": [
    "output_base_dir = \"./raw_results/\" + output_folder\n",
    "raw_base_dir = output_base_dir + \"/\" + raw_data_folder\n",
    "concat_base_dir = output_base_dir + \"/\" + concat_data_folder"
   ]
  },
  {
   "cell_type": "markdown",
   "metadata": {},
   "source": [
    "## Create experiment subfolders"
   ]
  },
  {
   "cell_type": "code",
   "execution_count": 26,
   "metadata": {},
   "outputs": [],
   "source": [
    "import os\n",
    "if not os.path.exists(raw_base_dir):\n",
    "    os.makedirs(raw_base_dir)\n",
    "if not os.path.exists(concat_base_dir):\n",
    "    os.makedirs(concat_base_dir)\n",
    "for RPS in input_RPS:\n",
    "    if not os.path.exists(raw_base_dir + \"/\" + RPS):\n",
    "        os.makedirs(raw_base_dir + \"/\" + RPS)"
   ]
  },
  {
   "cell_type": "markdown",
   "metadata": {},
   "source": [
    "## Get list of runs"
   ]
  },
  {
   "cell_type": "code",
   "execution_count": 27,
   "metadata": {},
   "outputs": [],
   "source": [
    "from pymongo import MongoClient\n",
    "import pymongo\n",
    "\n",
    "client = MongoClient(\"manager-mongo-manager\")\n",
    "db = client[experiment_database]\n",
    "coll_names = db.list_collection_names(nameOnly=True)\n",
    "#print(coll_names)"
   ]
  },
  {
   "cell_type": "markdown",
   "metadata": {},
   "source": [
    "## Output raw RTT into files"
   ]
  },
  {
   "cell_type": "code",
   "execution_count": null,
   "metadata": {},
   "outputs": [],
   "source": [
    "import re\n",
    "for coll_name in coll_names:\n",
    "    if coll_name != \"experiments\":\n",
    "        RPS = re.findall(r'%s(\\d+)' % reg_to_catch, coll_name)[0]\n",
    "        with open(raw_base_dir + \"/\" + RPS + \"/\" + coll_name + \".dat\", \"w\") as f:\n",
    "            cursor = db[coll_name].find()\n",
    "            entries = list(cursor)\n",
    "            for entry in entries:\n",
    "                print(str(entry.get(\"response_time\")), file=f)\n",
    "print(\"Done!\")"
   ]
  },
  {
   "cell_type": "markdown",
   "metadata": {},
   "source": [
    "## Merge experiments"
   ]
  },
  {
   "cell_type": "code",
   "execution_count": 11,
   "metadata": {},
   "outputs": [
    {
     "name": "stdout",
     "output_type": "stream",
     "text": [
      "Done!\n"
     ]
    }
   ],
   "source": [
    "import os\n",
    "for RPS in input_RPS:\n",
    "    rps_base_dir = raw_base_dir + \"/\" + RPS\n",
    "    with open(concat_base_dir + \"/\" + RPS + \".dat\", \"w\") as fo:\n",
    "        for r, d, fs in os.walk(rps_base_dir):\n",
    "            for f in fs:\n",
    "                if os.path.isfile(rps_base_dir + \"/\" + f):\n",
    "                    with open(rps_base_dir + \"/\" + f,'r') as fi:\n",
    "                        fo.write(fi.read())\n",
    "print(\"Done!\")"
   ]
  },
  {
   "cell_type": "code",
   "execution_count": null,
   "metadata": {},
   "outputs": [],
   "source": []
  }
 ],
 "metadata": {
  "kernelspec": {
   "display_name": "Python 3",
   "language": "python",
   "name": "python3"
  },
  "language_info": {
   "codemirror_mode": {
    "name": "ipython",
    "version": 3
   },
   "file_extension": ".py",
   "mimetype": "text/x-python",
   "name": "python",
   "nbconvert_exporter": "python",
   "pygments_lexer": "ipython3",
   "version": "3.7.3"
  }
 },
 "nbformat": 4,
 "nbformat_minor": 4
}
